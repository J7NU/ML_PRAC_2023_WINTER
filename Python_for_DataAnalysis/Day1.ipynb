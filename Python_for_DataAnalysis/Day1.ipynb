{
 "cells": [
  {
   "cell_type": "code",
   "execution_count": 6,
   "metadata": {},
   "outputs": [
    {
     "name": "stdout",
     "output_type": "stream",
     "text": [
      "this\\has\\no\\special\\characters\n",
      "--------------------------------------------------\n",
      "this\\has\n",
      "o\\special\\characters\n"
     ]
    }
   ],
   "source": [
    "str = r\"this\\has\\no\\special\\characters\"\n",
    "#raw를 의미하는 r을 붙여줌으로서 이스케이프 문자가 작동하지 않고 그대로 출력된다.\n",
    "print(str)\n",
    "print('-'*50)\n",
    "str = \"this\\has\\no\\special\\characters\"\n",
    "print(str)"
   ]
  },
  {
   "cell_type": "markdown",
   "metadata": {},
   "source": [
    "### UNICODE?\n",
    "그리하여 국제적으로 전세계 언어를 모두 표시할 수 있는 표준코드를 만들기로 했다. 바로 유니코드(Unicode)다.   <br>\n",
    "    from https://jeongdowon.medium.com/unicode%EC%99%80-utf-8-%EA%B0%84%EB%8B%A8%ED%9E%88-%EC%9D%B4%ED%95%B4%ED%95%98%EA%B8%B0-b6aa3f7edf96<br>\n",
    "UTF-8은 Unicode를 encoding하는 방식이다. <br>\n",
    "    여기서 encoding이란?<br>\n",
    "        인코딩은 사용자가 입력한 문자나 기호들을 컴퓨터가 이용할 수 있는 신호로 만드는 것을 말한다. <br>\n",
    "            from https://ko.wikipedia.org/wiki/%EB%AC%B8%EC%9E%90_%EC%9D%B8%EC%BD%94%EB%94%A9<br>\n",
    "\n",
    "#### 책에서 의문이였던 부분 \n",
    "\"파이썬 구 버전에서 문자열은 유니코드 인코딩을 명시하지 않은 바이트였다. 문자열 인코딩을 알고 있다는 가정하에 유니코드로 변환할 수 있었다.\" 라는 문장이 있었다. <br>\n",
    "이것이 잘 이해가 가지 않는다.<br>\n",
    "우선 ChatGPT의 답변은 <br>\n",
    "    \"이 문장은 파이썬의 구 버전에서 문자열이 유니코드 인코딩을 명시적으로 지정하지 않으면 바이트로 처리된다는 내용을 설명하고 있습니다. <br>이전의 파이썬 버전에서는 문자열을 특별한 인코딩을 지정하지 않으면, 기본적으로 ASCII나 다른 바이트 인코딩 형식으로 처리되었습니다.<br>그러나 이러한 바이트 문자열은 유니코드 문자로 구성된 문자열과는 달리 문자 인코딩 정보가 없어서 어떤 방식으로 해석되어야 하는지 명확하지 않았습니다. <br>이때문에 사용자는 문자열이 어떤 인코딩 방식으로 저장되었는지 명시적으로 알아야 했고, 이 정보를 알고 있다면 그에 따라 유니코드로 변환할 수 있었습니다.<br>최근 버전의 파이썬에서는 문자열이 기본적으로 유니코드로 처리되기 때문에 이러한 명시적인 변환이 더 이상 필요하지 않습니다. <br>하지만 과거의 코드나 특정 상황에서는 아직도 바이트 문자열을 다룰 필요가 있을 수 있습니다.\"라고 한다."
   ]
  },
  {
   "cell_type": "code",
   "execution_count": 8,
   "metadata": {},
   "outputs": [
    {
     "name": "stdout",
     "output_type": "stream",
     "text": [
      "한국어 <class 'str'>\n",
      "b'\\xed\\x95\\x9c\\xea\\xb5\\xad\\xec\\x96\\xb4' <class 'bytes'>\n"
     ]
    },
    {
     "data": {
      "text/plain": [
       "'한국어'"
      ]
     },
     "execution_count": 8,
     "metadata": {},
     "output_type": "execute_result"
    }
   ],
   "source": [
    "str=\"한국어\"\n",
    "str_utf8=str.encode(\"utf-8\")\n",
    "print(str,type(str))\n",
    "print(str_utf8,type(str_utf8))\n",
    "str_utf8.decode(\"utf-8\")"
   ]
  },
  {
   "cell_type": "code",
   "execution_count": 23,
   "metadata": {},
   "outputs": [
    {
     "data": {
      "text/plain": [
       "datetime.datetime(2002, 5, 18, 0, 0)"
      ]
     },
     "execution_count": 23,
     "metadata": {},
     "output_type": "execute_result"
    }
   ],
   "source": [
    "import datetime\n",
    "\n",
    "dt = datetime.datetime.now() #datetime.datetime은 변경이 불가능하므로 이 메서드는 항상 새로운 객체를 반환한다. \n",
    "dt.day\n",
    "dt.strftime(\"%y-%m-%d\") #strftime이란 method는 datetime을 string으로 format한다.\n",
    "datetime.datetime.strptime(\"020518\",\"%y%m%d\")"
   ]
  },
  {
   "cell_type": "code",
   "execution_count": 24,
   "metadata": {},
   "outputs": [
    {
     "data": {
      "text/plain": [
       "datetime.datetime(2024, 1, 24, 2, 49, 20, 505201)"
      ]
     },
     "execution_count": 24,
     "metadata": {},
     "output_type": "execute_result"
    }
   ],
   "source": [
    "dt"
   ]
  },
  {
   "cell_type": "code",
   "execution_count": 26,
   "metadata": {},
   "outputs": [
    {
     "data": {
      "text/plain": [
       "datetime.datetime(2024, 1, 24, 2, 0)"
      ]
     },
     "execution_count": 26,
     "metadata": {},
     "output_type": "execute_result"
    }
   ],
   "source": [
    "dt_hour = dt.replace(minute=0,second=0,microsecond=0) #분과 초 field를 0으로 치환하여 새로운 객체를 얻을 수 있다. 추후에 시계열 데이터를 집계하거나 그룹화할때 용이하다고 한다.\n",
    "dt_hour"
   ]
  },
  {
   "cell_type": "code",
   "execution_count": 27,
   "metadata": {},
   "outputs": [
    {
     "data": {
      "text/plain": [
       "datetime.datetime(2024, 1, 24, 2, 49, 20, 505201)"
      ]
     },
     "execution_count": 27,
     "metadata": {},
     "output_type": "execute_result"
    }
   ],
   "source": [
    "dt"
   ]
  },
  {
   "cell_type": "code",
   "execution_count": 38,
   "metadata": {},
   "outputs": [
    {
     "name": "stdout",
     "output_type": "stream",
     "text": [
      "7920 days, 21:35:20.505201\n",
      "<class 'datetime.timedelta'>\n",
      "2024-02-02 05:14:00\n"
     ]
    }
   ],
   "source": [
    "from datetime import timedelta\n",
    "\n",
    "\n",
    "dt2=datetime.datetime(2002,5,18,5,14)\n",
    "delta = dt-dt2\n",
    "print(delta)\n",
    "print(type(delta))\n",
    "print(dt2+timedelta(days=7930))"
   ]
  },
  {
   "cell_type": "code",
   "execution_count": 39,
   "metadata": {},
   "outputs": [],
   "source": [
    "#pass -> 아무것도 하지않음, 주로 placeholder 역할을 함."
   ]
  },
  {
   "cell_type": "markdown",
   "metadata": {},
   "source": [
    "## 1. Tuple"
   ]
  },
  {
   "cell_type": "code",
   "execution_count": 46,
   "metadata": {},
   "outputs": [
    {
     "data": {
      "text/plain": [
       "('jinu', [1, 2, 3], True)"
      ]
     },
     "execution_count": 46,
     "metadata": {},
     "output_type": "execute_result"
    }
   ],
   "source": [
    "#파이썬의 자료구조 \n",
    "#1. 튜플\n",
    "lst=[1,2]\n",
    "tup1 = tuple([\"jinu\",lst,True])\n",
    "tup1 #튜플 내에 저장된 객체 자체는 변경이 가능하지만 한번 생성되면 각 슬롯에 저장된 객체를 변경하는 것은 불가능하다. \n",
    "tup1[1].append(3)#이렇게 객체 자체를 변경하는 것은 가능하다 \n",
    "tup1"
   ]
  },
  {
   "cell_type": "code",
   "execution_count": 52,
   "metadata": {},
   "outputs": [
    {
     "name": "stdout",
     "output_type": "stream",
     "text": [
      "1\n",
      "2\n",
      "[3, 4, 5]\n"
     ]
    }
   ],
   "source": [
    "tup= 1,2,3,4,5\n",
    "a,b,*rest=tup\n",
    "print(a)\n",
    "print(b)\n",
    "print(rest)"
   ]
  },
  {
   "cell_type": "code",
   "execution_count": null,
   "metadata": {},
   "outputs": [],
   "source": [
    "#tuple 자료구조에서 가장 많이 이용되는 method는 count이다. "
   ]
  },
  {
   "cell_type": "code",
   "execution_count": 54,
   "metadata": {},
   "outputs": [
    {
     "data": {
      "text/plain": [
       "(1, 2, 2, 2, 2, 2, 3, 4, 5)"
      ]
     },
     "execution_count": 54,
     "metadata": {},
     "output_type": "execute_result"
    }
   ],
   "source": [
    "tup=1,2,2,2,2,2,3,4,5\n",
    "tup.count(2)\n",
    "tup"
   ]
  },
  {
   "cell_type": "markdown",
   "metadata": {},
   "source": [
    "---"
   ]
  },
  {
   "cell_type": "markdown",
   "metadata": {},
   "source": [
    "## 2. List"
   ]
  },
  {
   "cell_type": "code",
   "execution_count": 78,
   "metadata": {},
   "outputs": [
    {
     "data": {
      "text/plain": [
       "[0, [1, 2, 3]]"
      ]
     },
     "execution_count": 78,
     "metadata": {},
     "output_type": "execute_result"
    }
   ],
   "source": [
    "#append는 리스트의 끝에 새로운 값을 추가하는 것이다. \n",
    "#append는 argument를 하나만 받는다.\n",
    "\n",
    "lst=[0]\n",
    "#lst.append(1,2,3) 안됨\n",
    "lst.append([1,2,3])\n",
    "lst"
   ]
  },
  {
   "cell_type": "code",
   "execution_count": 79,
   "metadata": {},
   "outputs": [
    {
     "data": {
      "text/plain": [
       "[0, [1, 2, 3], 4]"
      ]
     },
     "execution_count": 79,
     "metadata": {},
     "output_type": "execute_result"
    }
   ],
   "source": [
    "lst.insert(2,4) #insert(n,m) n번 인덱스에 m을 넣어줘 \n",
    "#insert는 추가된 값 이후의 값을 모두 이동시켜야하므로 append에 비해 높은 시간복잡도를 가진다.\n",
    "#순차 자료형의 시작과 끝 지점에 원소를 추가하고 싶다면 collections.deque를 이용하자\n",
    "lst"
   ]
  },
  {
   "cell_type": "code",
   "execution_count": 80,
   "metadata": {},
   "outputs": [
    {
     "name": "stdout",
     "output_type": "stream",
     "text": [
      "Deque: deque([2, 1, 3, 4])\n"
     ]
    }
   ],
   "source": [
    "from collections import deque\n",
    "\n",
    "# 빈 deque 생성\n",
    "my_deque = deque()\n",
    "\n",
    "# 왼쪽에 원소 추가\n",
    "my_deque.appendleft(1)\n",
    "my_deque.appendleft(2)\n",
    "\n",
    "# 오른쪽에 원소 추가\n",
    "my_deque.append(3)\n",
    "my_deque.append(4)\n",
    "\n",
    "print(\"Deque:\", my_deque)\n",
    "#이렇게 하면 my_deque는 다음과 같은 순서로 원소를 가지게 됩니다: [2, 1, 3, 4].\n",
    "#여기서 appendleft() 메서드는 왼쪽 끝에 원소를 추가하고, append() 메서드는 오른쪽 끝에 원소를 추가합니다. \n",
    "#이 연산들은 리스트에 원소를 추가하는 것보다 효율적으로 동작하며, 특히 원소를 시작 또는 끝에 추가할 때 시간복잡도가 낮아지는 특성을 가지고 있습니다."
   ]
  },
  {
   "cell_type": "code",
   "execution_count": 81,
   "metadata": {},
   "outputs": [],
   "source": [
    "#근데 이건 결국 앞에 추가한다는 점을 제외하면 append랑 큰 차이가 없는거 아닌가? 흐음........."
   ]
  },
  {
   "cell_type": "code",
   "execution_count": 82,
   "metadata": {},
   "outputs": [
    {
     "data": {
      "text/plain": [
       "[0, 4]"
      ]
     },
     "execution_count": 82,
     "metadata": {},
     "output_type": "execute_result"
    }
   ],
   "source": [
    "lst.pop(1) #arguments에 해당하는 index 원소를 return해주고 list에서 삭제한다. 기본값은 -1이다.\n",
    "lst "
   ]
  },
  {
   "cell_type": "code",
   "execution_count": 84,
   "metadata": {},
   "outputs": [
    {
     "data": {
      "text/plain": [
       "[4, 0]"
      ]
     },
     "execution_count": 84,
     "metadata": {},
     "output_type": "execute_result"
    }
   ],
   "source": [
    "lst.append(0)\n",
    "lst\n",
    "lst.remove(0) #remove는 맨 처음 나타난 argument 값을 삭제한다.\n",
    "lst"
   ]
  },
  {
   "cell_type": "code",
   "execution_count": null,
   "metadata": {},
   "outputs": [],
   "source": []
  }
 ],
 "metadata": {
  "kernelspec": {
   "display_name": "base",
   "language": "python",
   "name": "python3"
  },
  "language_info": {
   "codemirror_mode": {
    "name": "ipython",
    "version": 3
   },
   "file_extension": ".py",
   "mimetype": "text/x-python",
   "name": "python",
   "nbconvert_exporter": "python",
   "pygments_lexer": "ipython3",
   "version": "3.9.18"
  }
 },
 "nbformat": 4,
 "nbformat_minor": 2
}
