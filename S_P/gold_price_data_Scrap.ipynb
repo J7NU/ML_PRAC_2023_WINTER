{
 "cells": [
  {
   "cell_type": "code",
   "execution_count": 13,
   "metadata": {},
   "outputs": [
    {
     "name": "stderr",
     "output_type": "stream",
     "text": [
      "[*********************100%%**********************]  1 of 1 completed\n"
     ]
    }
   ],
   "source": [
    "import yfinance as yf\n",
    "import pandas as pd\n",
    "\n",
    "result=yf.download(\"GC=F\",period=\"max\",interval=\"1mo\")\n",
    "result[\"Average\"]=(result['Open']+ result['Close'])/2\n",
    "\n",
    "del result['High']\n",
    "del result['Low']\n",
    "del result['Adj Close']\n",
    "\n",
    "result.to_csv(\"C:/Users/JINU/Desktop/JINU/Coding/ML/ML_PRAC_2023_WINTER/S_P/gold_price(2000~2023)\")"
   ]
  }
 ],
 "metadata": {
  "kernelspec": {
   "display_name": "base",
   "language": "python",
   "name": "python3"
  },
  "language_info": {
   "codemirror_mode": {
    "name": "ipython",
    "version": 3
   },
   "file_extension": ".py",
   "mimetype": "text/x-python",
   "name": "python",
   "nbconvert_exporter": "python",
   "pygments_lexer": "ipython3",
   "version": "3.9.18"
  }
 },
 "nbformat": 4,
 "nbformat_minor": 2
}
